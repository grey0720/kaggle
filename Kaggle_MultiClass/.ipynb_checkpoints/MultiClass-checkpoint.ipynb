{
 "cells": [
  {
   "cell_type": "code",
   "execution_count": 1,
   "id": "4f6dc4e5",
   "metadata": {},
   "outputs": [],
   "source": [
    "import pandas as pd\n",
    "import numpy as np\n",
    "\n",
    "train_df = pd.read_csv('./train.csv')\n",
    "test_df = pd.read_csv('./test.csv')"
   ]
  },
  {
   "cell_type": "code",
   "execution_count": 2,
   "id": "c3706446",
   "metadata": {},
   "outputs": [],
   "source": [
    "# NObeyesdad : drop 후 원핫 인코딩\n",
    "target = train_df[['NObeyesdad']]\n",
    "train_df.drop(['NObeyesdad'], axis = 1, inplace = True)"
   ]
  },
  {
   "cell_type": "code",
   "execution_count": 3,
   "id": "0507a445",
   "metadata": {},
   "outputs": [],
   "source": [
    "from sklearn.preprocessing import OrdinalEncoder\n",
    "\n",
    "encode = OrdinalEncoder()\n",
    "target = encode.fit_transform(target)\n",
    "target = target.astype(int).flatten()"
   ]
  },
  {
   "cell_type": "code",
   "execution_count": 4,
   "id": "59f6a2d2",
   "metadata": {},
   "outputs": [
    {
     "name": "stdout",
     "output_type": "stream",
     "text": [
      "<class 'pandas.core.frame.DataFrame'>\n",
      "RangeIndex: 20758 entries, 0 to 20757\n",
      "Data columns (total 17 columns):\n",
      " #   Column                          Non-Null Count  Dtype  \n",
      "---  ------                          --------------  -----  \n",
      " 0   id                              20758 non-null  int64  \n",
      " 1   Gender                          20758 non-null  object \n",
      " 2   Age                             20758 non-null  float64\n",
      " 3   Height                          20758 non-null  float64\n",
      " 4   Weight                          20758 non-null  float64\n",
      " 5   family_history_with_overweight  20758 non-null  object \n",
      " 6   FAVC                            20758 non-null  object \n",
      " 7   FCVC                            20758 non-null  float64\n",
      " 8   NCP                             20758 non-null  float64\n",
      " 9   CAEC                            20758 non-null  object \n",
      " 10  SMOKE                           20758 non-null  object \n",
      " 11  CH2O                            20758 non-null  float64\n",
      " 12  SCC                             20758 non-null  object \n",
      " 13  FAF                             20758 non-null  float64\n",
      " 14  TUE                             20758 non-null  float64\n",
      " 15  CALC                            20758 non-null  object \n",
      " 16  MTRANS                          20758 non-null  object \n",
      "dtypes: float64(8), int64(1), object(8)\n",
      "memory usage: 2.7+ MB\n"
     ]
    }
   ],
   "source": [
    "train_df.info()"
   ]
  },
  {
   "cell_type": "code",
   "execution_count": 5,
   "id": "68dc7559",
   "metadata": {},
   "outputs": [
    {
     "name": "stdout",
     "output_type": "stream",
     "text": [
      "Gender : ['Male' 'Female']\n",
      "family_history_with_overweight : ['yes' 'no']\n",
      "FAVC : ['yes' 'no']\n",
      "CAEC : ['Sometimes' 'Frequently' 'no' 'Always']\n",
      "SMOKE : ['no' 'yes']\n",
      "SCC : ['no' 'yes']\n",
      "CALC : ['Sometimes' 'no' 'Frequently']\n",
      "MTRANS : ['Public_Transportation' 'Automobile' 'Walking' 'Motorbike' 'Bike']\n",
      "--------------------\n",
      "Gender : ['Male' 'Female']\n",
      "family_history_with_overweight : ['yes' 'no']\n",
      "FAVC : ['yes' 'no']\n",
      "CAEC : ['Sometimes' 'Always' 'Frequently' 'no']\n",
      "SMOKE : ['no' 'yes']\n",
      "SCC : ['no' 'yes']\n",
      "CALC : ['Sometimes' 'no' 'Frequently' 'Always']\n",
      "MTRANS : ['Public_Transportation' 'Automobile' 'Walking' 'Bike' 'Motorbike']\n"
     ]
    }
   ],
   "source": [
    "feature = ['Gender','family_history_with_overweight','FAVC','CAEC','SMOKE','SCC','CALC','MTRANS']\n",
    "\n",
    "for idx in feature:\n",
    "    print(idx ,':', train_df[idx].unique())\n",
    "\n",
    "print('-'*20)\n",
    "for idx in feature:\n",
    "    print(idx ,':', test_df[idx].unique())"
   ]
  },
  {
   "cell_type": "code",
   "execution_count": 6,
   "id": "66cfc8ba",
   "metadata": {},
   "outputs": [],
   "source": [
    "# Ordinal encoding\n",
    "data = [train_df, test_df]\n",
    "# FAVC \n",
    "for idx in feature:\n",
    "    for dt in data:\n",
    "        encode = OrdinalEncoder()\n",
    "        dt[feature] = encode.fit_transform(dt[feature]).astype(int)"
   ]
  },
  {
   "cell_type": "code",
   "execution_count": 7,
   "id": "89051f05",
   "metadata": {},
   "outputs": [
    {
     "name": "stdout",
     "output_type": "stream",
     "text": [
      "<class 'pandas.core.frame.DataFrame'>\n",
      "RangeIndex: 20758 entries, 0 to 20757\n",
      "Data columns (total 16 columns):\n",
      " #   Column                          Non-Null Count  Dtype  \n",
      "---  ------                          --------------  -----  \n",
      " 0   Gender                          20758 non-null  int64  \n",
      " 1   Age                             20758 non-null  float64\n",
      " 2   Height                          20758 non-null  float64\n",
      " 3   Weight                          20758 non-null  float64\n",
      " 4   family_history_with_overweight  20758 non-null  int64  \n",
      " 5   FAVC                            20758 non-null  int64  \n",
      " 6   FCVC                            20758 non-null  float64\n",
      " 7   NCP                             20758 non-null  float64\n",
      " 8   CAEC                            20758 non-null  int64  \n",
      " 9   SMOKE                           20758 non-null  int64  \n",
      " 10  CH2O                            20758 non-null  float64\n",
      " 11  SCC                             20758 non-null  int64  \n",
      " 12  FAF                             20758 non-null  float64\n",
      " 13  TUE                             20758 non-null  float64\n",
      " 14  CALC                            20758 non-null  int64  \n",
      " 15  MTRANS                          20758 non-null  int64  \n",
      "dtypes: float64(8), int64(8)\n",
      "memory usage: 2.5 MB\n",
      "<class 'pandas.core.frame.DataFrame'>\n",
      "RangeIndex: 13840 entries, 0 to 13839\n",
      "Data columns (total 16 columns):\n",
      " #   Column                          Non-Null Count  Dtype  \n",
      "---  ------                          --------------  -----  \n",
      " 0   Gender                          13840 non-null  int64  \n",
      " 1   Age                             13840 non-null  float64\n",
      " 2   Height                          13840 non-null  float64\n",
      " 3   Weight                          13840 non-null  float64\n",
      " 4   family_history_with_overweight  13840 non-null  int64  \n",
      " 5   FAVC                            13840 non-null  int64  \n",
      " 6   FCVC                            13840 non-null  float64\n",
      " 7   NCP                             13840 non-null  float64\n",
      " 8   CAEC                            13840 non-null  int64  \n",
      " 9   SMOKE                           13840 non-null  int64  \n",
      " 10  CH2O                            13840 non-null  float64\n",
      " 11  SCC                             13840 non-null  int64  \n",
      " 12  FAF                             13840 non-null  float64\n",
      " 13  TUE                             13840 non-null  float64\n",
      " 14  CALC                            13840 non-null  int64  \n",
      " 15  MTRANS                          13840 non-null  int64  \n",
      "dtypes: float64(8), int64(8)\n",
      "memory usage: 1.7 MB\n"
     ]
    }
   ],
   "source": [
    "id_train = train_df.pop('id')\n",
    "id_test = test_df.pop('id')\n",
    "\n",
    "train_df.info()\n",
    "test_df.info()"
   ]
  },
  {
   "cell_type": "code",
   "execution_count": 37,
   "id": "528136f1",
   "metadata": {},
   "outputs": [],
   "source": [
    "from sklearn.model_selection import train_test_split\n",
    "\n",
    "X_train, X_val, y_train, y_val = train_test_split(train_df, target, test_size = 0.2, random_state= 42)"
   ]
  },
  {
   "cell_type": "code",
   "execution_count": 38,
   "id": "fc399647",
   "metadata": {},
   "outputs": [],
   "source": [
    "from sklearn.ensemble import RandomForestClassifier\n",
    "from sklearn.ensemble import VotingClassifier\n",
    "import xgboost as xg\n",
    "from sklearn.metrics import classification_report, accuracy_score"
   ]
  },
  {
   "cell_type": "code",
   "execution_count": 39,
   "id": "578bc130",
   "metadata": {},
   "outputs": [
    {
     "data": {
      "text/plain": [
       "89.6"
      ]
     },
     "execution_count": 39,
     "metadata": {},
     "output_type": "execute_result"
    }
   ],
   "source": [
    "random_forest = RandomForestClassifier()\n",
    "random_forest.fit(X_train, y_train)\n",
    "acc_random_forest = round(random_forest.score(X_val, y_val) * 100, 2)\n",
    "acc_random_forest"
   ]
  },
  {
   "cell_type": "code",
   "execution_count": 40,
   "id": "a4ec54fd",
   "metadata": {},
   "outputs": [
    {
     "name": "stderr",
     "output_type": "stream",
     "text": [
      "/home/dummy/.local/lib/python3.10/site-packages/xgboost/data.py:312: FutureWarning: is_sparse is deprecated and will be removed in a future version. Check `isinstance(dtype, pd.SparseDtype)` instead.\n",
      "  if is_sparse(dtype):\n",
      "/home/dummy/.local/lib/python3.10/site-packages/xgboost/data.py:314: FutureWarning: is_categorical_dtype is deprecated and will be removed in a future version. Use isinstance(dtype, CategoricalDtype) instead\n",
      "  elif is_categorical_dtype(dtype) and enable_categorical:\n",
      "/home/dummy/.local/lib/python3.10/site-packages/xgboost/data.py:345: FutureWarning: is_categorical_dtype is deprecated and will be removed in a future version. Use isinstance(dtype, CategoricalDtype) instead\n",
      "  if is_categorical_dtype(dtype)\n",
      "/home/dummy/.local/lib/python3.10/site-packages/xgboost/data.py:336: FutureWarning: is_categorical_dtype is deprecated and will be removed in a future version. Use isinstance(dtype, CategoricalDtype) instead\n",
      "  return is_int or is_bool or is_float or is_categorical_dtype(dtype)\n",
      "/home/dummy/.local/lib/python3.10/site-packages/xgboost/data.py:312: FutureWarning: is_sparse is deprecated and will be removed in a future version. Check `isinstance(dtype, pd.SparseDtype)` instead.\n",
      "  if is_sparse(dtype):\n",
      "/home/dummy/.local/lib/python3.10/site-packages/xgboost/data.py:314: FutureWarning: is_categorical_dtype is deprecated and will be removed in a future version. Use isinstance(dtype, CategoricalDtype) instead\n",
      "  elif is_categorical_dtype(dtype) and enable_categorical:\n",
      "/home/dummy/.local/lib/python3.10/site-packages/xgboost/data.py:345: FutureWarning: is_categorical_dtype is deprecated and will be removed in a future version. Use isinstance(dtype, CategoricalDtype) instead\n",
      "  if is_categorical_dtype(dtype)\n",
      "/home/dummy/.local/lib/python3.10/site-packages/xgboost/data.py:336: FutureWarning: is_categorical_dtype is deprecated and will be removed in a future version. Use isinstance(dtype, CategoricalDtype) instead\n",
      "  return is_int or is_bool or is_float or is_categorical_dtype(dtype)\n"
     ]
    },
    {
     "data": {
      "text/plain": [
       "90.37"
      ]
     },
     "execution_count": 40,
     "metadata": {},
     "output_type": "execute_result"
    }
   ],
   "source": [
    "xgboost = xg.XGBClassifier()\n",
    "xgboost.fit(X_train, y_trian)\n",
    "acc_xgboost = round(xgboost.score(X_val,y_val) * 100, 2)\n",
    "acc_xgboost"
   ]
  },
  {
   "cell_type": "code",
   "execution_count": 43,
   "id": "e953e724",
   "metadata": {},
   "outputs": [
    {
     "name": "stderr",
     "output_type": "stream",
     "text": [
      "/home/dummy/.local/lib/python3.10/site-packages/xgboost/data.py:312: FutureWarning: is_sparse is deprecated and will be removed in a future version. Check `isinstance(dtype, pd.SparseDtype)` instead.\n",
      "  if is_sparse(dtype):\n",
      "/home/dummy/.local/lib/python3.10/site-packages/xgboost/data.py:314: FutureWarning: is_categorical_dtype is deprecated and will be removed in a future version. Use isinstance(dtype, CategoricalDtype) instead\n",
      "  elif is_categorical_dtype(dtype) and enable_categorical:\n",
      "/home/dummy/.local/lib/python3.10/site-packages/xgboost/data.py:345: FutureWarning: is_categorical_dtype is deprecated and will be removed in a future version. Use isinstance(dtype, CategoricalDtype) instead\n",
      "  if is_categorical_dtype(dtype)\n",
      "/home/dummy/.local/lib/python3.10/site-packages/xgboost/data.py:336: FutureWarning: is_categorical_dtype is deprecated and will be removed in a future version. Use isinstance(dtype, CategoricalDtype) instead\n",
      "  return is_int or is_bool or is_float or is_categorical_dtype(dtype)\n",
      "/home/dummy/.local/lib/python3.10/site-packages/xgboost/data.py:312: FutureWarning: is_sparse is deprecated and will be removed in a future version. Check `isinstance(dtype, pd.SparseDtype)` instead.\n",
      "  if is_sparse(dtype):\n",
      "/home/dummy/.local/lib/python3.10/site-packages/xgboost/data.py:314: FutureWarning: is_categorical_dtype is deprecated and will be removed in a future version. Use isinstance(dtype, CategoricalDtype) instead\n",
      "  elif is_categorical_dtype(dtype) and enable_categorical:\n",
      "/home/dummy/.local/lib/python3.10/site-packages/xgboost/data.py:345: FutureWarning: is_categorical_dtype is deprecated and will be removed in a future version. Use isinstance(dtype, CategoricalDtype) instead\n",
      "  if is_categorical_dtype(dtype)\n",
      "/home/dummy/.local/lib/python3.10/site-packages/xgboost/data.py:336: FutureWarning: is_categorical_dtype is deprecated and will be removed in a future version. Use isinstance(dtype, CategoricalDtype) instead\n",
      "  return is_int or is_bool or is_float or is_categorical_dtype(dtype)\n"
     ]
    },
    {
     "data": {
      "text/plain": [
       "90.51"
      ]
     },
     "execution_count": 43,
     "metadata": {},
     "output_type": "execute_result"
    }
   ],
   "source": [
    "voting_ensemble = VotingClassifier(estimators=[(\"Random Forest\",random_forest),\n",
    "                                               (\"XGBoost\",xgboost)],\n",
    "                                   weights= (1,2),\n",
    "                                  voting = 'soft')\n",
    "voting_ensemble.fit(X_train, y_train)\n",
    "acc_voting_ensemble= round(voting_ensemble.score(X_val,y_val) * 100, 2)\n",
    "acc_voting_ensemble"
   ]
  },
  {
   "cell_type": "code",
   "execution_count": null,
   "id": "b3c7c40f",
   "metadata": {},
   "outputs": [],
   "source": [
    "Y_pred = random_forest.predict(test_df)\n",
    "submission = pd.DataFrame({\n",
    "        \"PassengerId\": Pid_df,\n",
    "        \"Survived\": Y_pred\n",
    "    })\n",
    "submission.to_csv('submission_preprocessing_randomForest.csv', index=False)\n",
    "\n",
    "Y_pred = xgboost.predict(test_df)\n",
    "submission = pd.DataFrame({\n",
    "        \"PassengerId\": Pid_df,\n",
    "        \"Survived\": Y_pred\n",
    "    })\n",
    "submission.to_csv('submission_preprocessing_XGBoost.csv', index=False)\n",
    "\n",
    "Y_pred = voting_ensemble.predict(test_df)\n",
    "submission = pd.DataFrame({\n",
    "        \"PassengerId\": Pid_df,\n",
    "        \"Survived\": Y_pred\n",
    "    })\n",
    "submission.to_csv('submission_preprocessing_voting_ensemble.csv', index=False)"
   ]
  },
  {
   "cell_type": "code",
   "execution_count": 16,
   "id": "12c1fb71",
   "metadata": {},
   "outputs": [
    {
     "name": "stdout",
     "output_type": "stream",
     "text": [
      "Model: \"sequential_2\"\n",
      "_________________________________________________________________\n",
      " Layer (type)                Output Shape              Param #   \n",
      "=================================================================\n",
      " dense_9 (Dense)             (None, 68)                1156      \n",
      "                                                                 \n",
      " dense_10 (Dense)            (None, 34)                2346      \n",
      "                                                                 \n",
      " dense_11 (Dense)            (None, 17)                595       \n",
      "                                                                 \n",
      " dense_12 (Dense)            (None, 7)                 126       \n",
      "                                                                 \n",
      "=================================================================\n",
      "Total params: 4,223\n",
      "Trainable params: 4,223\n",
      "Non-trainable params: 0\n",
      "_________________________________________________________________\n"
     ]
    }
   ],
   "source": [
    "import tensorflow as tf\n",
    "from tensorflow.keras import datasets, layers, models\n",
    "\n",
    "model = tf.keras.Sequential([\n",
    "    tf.keras.layers.Dense(units = 68, activation= 'sigmoid', input_shape = (16,)),\n",
    "    tf.keras.layers.Dense(units = 34, activation= 'sigmoid'),\n",
    "    tf.keras.layers.Dense(units = 17, activation= 'softmax'),\n",
    "    tf.keras.layers.Dense(units = 7)\n",
    "])\n",
    "model.summary()"
   ]
  },
  {
   "cell_type": "code",
   "execution_count": 22,
   "id": "3e7d4705",
   "metadata": {},
   "outputs": [
    {
     "name": "stdout",
     "output_type": "stream",
     "text": [
      "Epoch 1/50\n",
      "519/519 [==============================] - 2s 3ms/step - loss: 1.7024\n",
      "Epoch 2/50\n",
      "519/519 [==============================] - 2s 3ms/step - loss: 1.7089\n",
      "Epoch 3/50\n",
      "519/519 [==============================] - 2s 3ms/step - loss: 1.6997\n",
      "Epoch 4/50\n",
      "519/519 [==============================] - 2s 3ms/step - loss: 1.6976\n",
      "Epoch 5/50\n",
      "519/519 [==============================] - 2s 3ms/step - loss: 1.6985\n",
      "Epoch 6/50\n",
      "519/519 [==============================] - 2s 3ms/step - loss: 1.6995\n",
      "Epoch 7/50\n",
      "519/519 [==============================] - 2s 3ms/step - loss: 1.6918\n",
      "Epoch 8/50\n",
      "519/519 [==============================] - 2s 3ms/step - loss: 1.6855\n",
      "Epoch 9/50\n",
      "519/519 [==============================] - 2s 3ms/step - loss: 1.6897\n",
      "Epoch 10/50\n",
      "519/519 [==============================] - 2s 3ms/step - loss: 1.6980\n",
      "Epoch 11/50\n",
      "519/519 [==============================] - 2s 3ms/step - loss: 1.6947\n",
      "Epoch 12/50\n",
      "519/519 [==============================] - 2s 3ms/step - loss: 1.6856\n",
      "Epoch 13/50\n",
      "519/519 [==============================] - 2s 3ms/step - loss: 1.6907\n",
      "Epoch 14/50\n",
      "519/519 [==============================] - 2s 3ms/step - loss: 1.6774\n",
      "Epoch 15/50\n",
      "519/519 [==============================] - 2s 3ms/step - loss: 1.6786\n",
      "Epoch 16/50\n",
      "519/519 [==============================] - 2s 3ms/step - loss: 1.6756\n",
      "Epoch 17/50\n",
      "519/519 [==============================] - 2s 3ms/step - loss: 1.6846\n",
      "Epoch 18/50\n",
      "519/519 [==============================] - 1s 3ms/step - loss: 1.6777\n",
      "Epoch 19/50\n",
      "519/519 [==============================] - 2s 3ms/step - loss: 1.6811\n",
      "Epoch 20/50\n",
      "519/519 [==============================] - 2s 3ms/step - loss: 1.6838\n",
      "Epoch 21/50\n",
      "519/519 [==============================] - 2s 3ms/step - loss: 1.6760\n",
      "Epoch 22/50\n",
      "519/519 [==============================] - 2s 3ms/step - loss: 1.6855\n",
      "Epoch 23/50\n",
      "519/519 [==============================] - 2s 3ms/step - loss: 1.6761\n",
      "Epoch 24/50\n",
      "519/519 [==============================] - 2s 3ms/step - loss: 1.6775\n",
      "Epoch 25/50\n",
      "519/519 [==============================] - 2s 3ms/step - loss: 1.6757\n",
      "Epoch 26/50\n",
      "519/519 [==============================] - 2s 3ms/step - loss: 1.6821\n",
      "Epoch 27/50\n",
      "519/519 [==============================] - 2s 3ms/step - loss: 1.6700\n",
      "Epoch 28/50\n",
      "519/519 [==============================] - 2s 3ms/step - loss: 1.6810\n",
      "Epoch 29/50\n",
      "519/519 [==============================] - 2s 3ms/step - loss: 1.6726\n",
      "Epoch 30/50\n",
      "519/519 [==============================] - 2s 3ms/step - loss: 1.6825\n",
      "Epoch 31/50\n",
      "519/519 [==============================] - 2s 3ms/step - loss: 1.6905\n",
      "Epoch 32/50\n",
      "519/519 [==============================] - 2s 3ms/step - loss: 1.6699\n",
      "Epoch 33/50\n",
      "519/519 [==============================] - 2s 3ms/step - loss: 1.6675\n",
      "Epoch 34/50\n",
      "519/519 [==============================] - 2s 3ms/step - loss: 1.6902\n",
      "Epoch 35/50\n",
      "519/519 [==============================] - 2s 3ms/step - loss: 1.6744\n",
      "Epoch 36/50\n",
      "519/519 [==============================] - 2s 3ms/step - loss: 1.6816\n",
      "Epoch 37/50\n",
      "519/519 [==============================] - 2s 3ms/step - loss: 1.6718\n",
      "Epoch 38/50\n",
      "519/519 [==============================] - 2s 3ms/step - loss: 1.6714\n",
      "Epoch 39/50\n",
      "519/519 [==============================] - 2s 3ms/step - loss: 1.6752\n",
      "Epoch 40/50\n",
      "519/519 [==============================] - 2s 3ms/step - loss: 1.6680\n",
      "Epoch 41/50\n",
      "519/519 [==============================] - 2s 4ms/step - loss: 1.6829\n",
      "Epoch 42/50\n",
      "519/519 [==============================] - 2s 3ms/step - loss: 1.6772\n",
      "Epoch 43/50\n",
      "519/519 [==============================] - 2s 3ms/step - loss: 1.6655\n",
      "Epoch 44/50\n",
      "519/519 [==============================] - 2s 3ms/step - loss: 1.6720\n",
      "Epoch 45/50\n",
      "519/519 [==============================] - 2s 3ms/step - loss: 1.6514\n",
      "Epoch 46/50\n",
      "519/519 [==============================] - 2s 3ms/step - loss: 1.6686\n",
      "Epoch 47/50\n",
      "519/519 [==============================] - 2s 3ms/step - loss: 1.6651\n",
      "Epoch 48/50\n",
      "519/519 [==============================] - 2s 3ms/step - loss: 1.6681\n",
      "Epoch 49/50\n",
      "519/519 [==============================] - 2s 3ms/step - loss: 1.6629\n",
      "Epoch 50/50\n",
      "519/519 [==============================] - 2s 3ms/step - loss: 1.6701\n"
     ]
    }
   ],
   "source": [
    "model.compile(optimizer=\"adam\", loss = \"mse\")\n",
    "history = model.fit(X_train, Y_trian, epochs = 50, batch_size = 32)"
   ]
  },
  {
   "cell_type": "code",
   "execution_count": 23,
   "id": "07c6b3b1",
   "metadata": {},
   "outputs": [
    {
     "data": {
      "text/plain": [
       "[<matplotlib.lines.Line2D at 0x7fdf2c1febf0>]"
      ]
     },
     "execution_count": 23,
     "metadata": {},
     "output_type": "execute_result"
    },
    {
     "data": {
      "image/png": "[encoded data removed]",
      "text/plain": [
       "<Figure size 432x288 with 1 Axes>"
      ]
     },
     "metadata": {
      "needs_background": "light"
     },
     "output_type": "display_data"
    }
   ],
   "source": [
    "import matplotlib.pyplot as plt\n",
    "plt.plot(history.history['loss'])"
   ]
  },
  {
   "cell_type": "code",
   "execution_count": 24,
   "id": "c01c74ff",
   "metadata": {},
   "outputs": [
    {
     "name": "stdout",
     "output_type": "stream",
     "text": [
      "130/130 [==============================] - 0s 2ms/step - loss: 1.6790\n"
     ]
    },
    {
     "data": {
      "text/plain": [
       "1.6789778470993042"
      ]
     },
     "execution_count": 24,
     "metadata": {},
     "output_type": "execute_result"
    }
   ],
   "source": [
    "pred = model.evaluate(x_val, y_val)\n",
    "pred"
   ]
  },
  {
   "cell_type": "code",
   "execution_count": null,
   "id": "e3350618",
   "metadata": {},
   "outputs": [],
   "source": []
  }
 ],
 "metadata": {
  "kernelspec": {
   "display_name": "Python 3 (ipykernel)",
   "language": "python",
   "name": "python3"
  },
  "language_info": {
   "codemirror_mode": {
    "name": "ipython",
    "version": 3
   },
   "file_extension": ".py",
   "mimetype": "text/x-python",
   "name": "python",
   "nbconvert_exporter": "python",
   "pygments_lexer": "ipython3",
   "version": "3.10.12"
  }
 },
 "nbformat": 4,
 "nbformat_minor": 5
}
