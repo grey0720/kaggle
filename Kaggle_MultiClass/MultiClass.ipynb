{
 "cells": [
  {
   "cell_type": "code",
   "execution_count": 55,
   "id": "4f6dc4e5",
   "metadata": {},
   "outputs": [],
   "source": [
    "import pandas as pd\n",
    "import numpy as np\n",
    "\n",
    "train_df = pd.read_csv('./train.csv')\n",
    "test_df = pd.read_csv('./test.csv')"
   ]
  },
  {
   "cell_type": "code",
   "execution_count": 56,
   "id": "c3706446",
   "metadata": {},
   "outputs": [],
   "source": [
    "# NObeyesdad : drop 후 원핫 인코딩\n",
    "target = train_df[['NObeyesdad']]\n",
    "train_df.drop(['NObeyesdad'], axis = 1, inplace = True)"
   ]
  },
  {
   "cell_type": "code",
   "execution_count": 57,
   "id": "0507a445",
   "metadata": {},
   "outputs": [],
   "source": [
    "from sklearn.preprocessing import OrdinalEncoder\n",
    "\n",
    "encode = OrdinalEncoder()\n",
    "target = encode.fit_transform(target)\n",
    "target = target.astype(int).flatten()"
   ]
  },
  {
   "cell_type": "code",
   "execution_count": 58,
   "id": "59f6a2d2",
   "metadata": {},
   "outputs": [
    {
     "name": "stdout",
     "output_type": "stream",
     "text": [
      "<class 'pandas.core.frame.DataFrame'>\n",
      "RangeIndex: 20758 entries, 0 to 20757\n",
      "Data columns (total 17 columns):\n",
      " #   Column                          Non-Null Count  Dtype  \n",
      "---  ------                          --------------  -----  \n",
      " 0   id                              20758 non-null  int64  \n",
      " 1   Gender                          20758 non-null  object \n",
      " 2   Age                             20758 non-null  float64\n",
      " 3   Height                          20758 non-null  float64\n",
      " 4   Weight                          20758 non-null  float64\n",
      " 5   family_history_with_overweight  20758 non-null  object \n",
      " 6   FAVC                            20758 non-null  object \n",
      " 7   FCVC                            20758 non-null  float64\n",
      " 8   NCP                             20758 non-null  float64\n",
      " 9   CAEC                            20758 non-null  object \n",
      " 10  SMOKE                           20758 non-null  object \n",
      " 11  CH2O                            20758 non-null  float64\n",
      " 12  SCC                             20758 non-null  object \n",
      " 13  FAF                             20758 non-null  float64\n",
      " 14  TUE                             20758 non-null  float64\n",
      " 15  CALC                            20758 non-null  object \n",
      " 16  MTRANS                          20758 non-null  object \n",
      "dtypes: float64(8), int64(1), object(8)\n",
      "memory usage: 2.7+ MB\n"
     ]
    }
   ],
   "source": [
    "train_df.info()"
   ]
  },
  {
   "cell_type": "code",
   "execution_count": 59,
   "id": "68dc7559",
   "metadata": {},
   "outputs": [
    {
     "name": "stdout",
     "output_type": "stream",
     "text": [
      "Gender : ['Male' 'Female']\n",
      "family_history_with_overweight : ['yes' 'no']\n",
      "FAVC : ['yes' 'no']\n",
      "CAEC : ['Sometimes' 'Frequently' 'no' 'Always']\n",
      "SMOKE : ['no' 'yes']\n",
      "SCC : ['no' 'yes']\n",
      "CALC : ['Sometimes' 'no' 'Frequently']\n",
      "MTRANS : ['Public_Transportation' 'Automobile' 'Walking' 'Motorbike' 'Bike']\n",
      "--------------------\n",
      "Gender : ['Male' 'Female']\n",
      "family_history_with_overweight : ['yes' 'no']\n",
      "FAVC : ['yes' 'no']\n",
      "CAEC : ['Sometimes' 'Always' 'Frequently' 'no']\n",
      "SMOKE : ['no' 'yes']\n",
      "SCC : ['no' 'yes']\n",
      "CALC : ['Sometimes' 'no' 'Frequently' 'Always']\n",
      "MTRANS : ['Public_Transportation' 'Automobile' 'Walking' 'Bike' 'Motorbike']\n"
     ]
    }
   ],
   "source": [
    "feature = ['Gender','family_history_with_overweight','FAVC','CAEC','SMOKE','SCC','CALC','MTRANS']\n",
    "\n",
    "for idx in feature:\n",
    "    print(idx ,':', train_df[idx].unique())\n",
    "\n",
    "print('-'*20)\n",
    "for idx in feature:\n",
    "    print(idx ,':', test_df[idx].unique())"
   ]
  },
  {
   "cell_type": "code",
   "execution_count": 60,
   "id": "66cfc8ba",
   "metadata": {},
   "outputs": [],
   "source": [
    "# Ordinal encoding\n",
    "data = [train_df, test_df]\n",
    "# FAVC \n",
    "for idx in feature:\n",
    "    for dt in data:\n",
    "        encode = OrdinalEncoder()\n",
    "        dt[feature] = encode.fit_transform(dt[feature]).astype(int)"
   ]
  },
  {
   "cell_type": "code",
   "execution_count": 61,
   "id": "89051f05",
   "metadata": {},
   "outputs": [
    {
     "name": "stdout",
     "output_type": "stream",
     "text": [
      "<class 'pandas.core.frame.DataFrame'>\n",
      "RangeIndex: 20758 entries, 0 to 20757\n",
      "Data columns (total 16 columns):\n",
      " #   Column                          Non-Null Count  Dtype  \n",
      "---  ------                          --------------  -----  \n",
      " 0   Gender                          20758 non-null  int64  \n",
      " 1   Age                             20758 non-null  float64\n",
      " 2   Height                          20758 non-null  float64\n",
      " 3   Weight                          20758 non-null  float64\n",
      " 4   family_history_with_overweight  20758 non-null  int64  \n",
      " 5   FAVC                            20758 non-null  int64  \n",
      " 6   FCVC                            20758 non-null  float64\n",
      " 7   NCP                             20758 non-null  float64\n",
      " 8   CAEC                            20758 non-null  int64  \n",
      " 9   SMOKE                           20758 non-null  int64  \n",
      " 10  CH2O                            20758 non-null  float64\n",
      " 11  SCC                             20758 non-null  int64  \n",
      " 12  FAF                             20758 non-null  float64\n",
      " 13  TUE                             20758 non-null  float64\n",
      " 14  CALC                            20758 non-null  int64  \n",
      " 15  MTRANS                          20758 non-null  int64  \n",
      "dtypes: float64(8), int64(8)\n",
      "memory usage: 2.5 MB\n",
      "<class 'pandas.core.frame.DataFrame'>\n",
      "RangeIndex: 13840 entries, 0 to 13839\n",
      "Data columns (total 16 columns):\n",
      " #   Column                          Non-Null Count  Dtype  \n",
      "---  ------                          --------------  -----  \n",
      " 0   Gender                          13840 non-null  int64  \n",
      " 1   Age                             13840 non-null  float64\n",
      " 2   Height                          13840 non-null  float64\n",
      " 3   Weight                          13840 non-null  float64\n",
      " 4   family_history_with_overweight  13840 non-null  int64  \n",
      " 5   FAVC                            13840 non-null  int64  \n",
      " 6   FCVC                            13840 non-null  float64\n",
      " 7   NCP                             13840 non-null  float64\n",
      " 8   CAEC                            13840 non-null  int64  \n",
      " 9   SMOKE                           13840 non-null  int64  \n",
      " 10  CH2O                            13840 non-null  float64\n",
      " 11  SCC                             13840 non-null  int64  \n",
      " 12  FAF                             13840 non-null  float64\n",
      " 13  TUE                             13840 non-null  float64\n",
      " 14  CALC                            13840 non-null  int64  \n",
      " 15  MTRANS                          13840 non-null  int64  \n",
      "dtypes: float64(8), int64(8)\n",
      "memory usage: 1.7 MB\n"
     ]
    }
   ],
   "source": [
    "id_train = train_df.pop('id')\n",
    "id_test = test_df.pop('id')\n",
    "\n",
    "train_df.info()\n",
    "test_df.info()"
   ]
  },
  {
   "cell_type": "code",
   "execution_count": 62,
   "id": "528136f1",
   "metadata": {},
   "outputs": [],
   "source": [
    "from sklearn.model_selection import train_test_split\n",
    "\n",
    "X_train, x_val, Y_trian, y_val = train_test_split(train_df, target, test_size = 0.2, random_state= 42)"
   ]
  },
  {
   "cell_type": "code",
   "execution_count": 63,
   "id": "12c1fb71",
   "metadata": {},
   "outputs": [
    {
     "ename": "SyntaxError",
     "evalue": "invalid non-printable character U+00A0 (4245273665.py, line 4)",
     "output_type": "error",
     "traceback": [
      "\u001b[0;36m  File \u001b[0;32m\"/tmp/ipykernel_1034/4245273665.py\"\u001b[0;36m, line \u001b[0;32m4\u001b[0m\n\u001b[0;31m    model = model.Sequential()\u001b[0m\n\u001b[0m         ^\u001b[0m\n\u001b[0;31mSyntaxError\u001b[0m\u001b[0;31m:\u001b[0m invalid non-printable character U+00A0\n"
     ]
    }
   ],
   "source": [
    "import tensorflow as tf\n",
    "from tensorflow.keras import datasets, layers, models\n",
    "\n",
    "model = model.Sequential()\n",
    "model.add(Dense(64, input_shape=(17, ), activation='relu'))\n",
    "model.add(Dense(32))\n",
    "model.add(Dense(16))\n",
    "model.add(Dense(7))"
   ]
  },
  {
   "cell_type": "code",
   "execution_count": 72,
   "id": "da5eae5d",
   "metadata": {},
   "outputs": [
    {
     "ename": "SyntaxError",
     "evalue": "invalid non-printable character U+00A0 (552450841.py, line 1)",
     "output_type": "error",
     "traceback": [
      "\u001b[0;36m  File \u001b[0;32m\"/tmp/ipykernel_1034/552450841.py\"\u001b[0;36m, line \u001b[0;32m1\u001b[0m\n\u001b[0;31m    from keras.models import Sequential\u001b[0m\n\u001b[0m        ^\u001b[0m\n\u001b[0;31mSyntaxError\u001b[0m\u001b[0;31m:\u001b[0m invalid non-printable character U+00A0\n"
     ]
    }
   ],
   "source": [
    "from keras.models import Sequential\n",
    "from keras.layers import Dense\n",
    "\n",
    "model = Sequential()\n",
    "model.add(layers.Dense(64,input_shape=(17),activation='relu'))"
   ]
  },
  {
   "cell_type": "code",
   "execution_count": null,
   "id": "3e7d4705",
   "metadata": {},
   "outputs": [],
   "source": []
  }
 ],
 "metadata": {
  "kernelspec": {
   "display_name": "Python 3 (ipykernel)",
   "language": "python",
   "name": "python3"
  },
  "language_info": {
   "codemirror_mode": {
    "name": "ipython",
    "version": 3
   },
   "file_extension": ".py",
   "mimetype": "text/x-python",
   "name": "python",
   "nbconvert_exporter": "python",
   "pygments_lexer": "ipython3",
   "version": "3.10.12"
  }
 },
 "nbformat": 4,
 "nbformat_minor": 5
}
